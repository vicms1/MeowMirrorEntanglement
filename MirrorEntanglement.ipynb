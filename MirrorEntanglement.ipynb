{
 "cells": [
  {
   "cell_type": "markdown",
   "id": "0fe05216",
   "metadata": {},
   "source": [
    "# 🪞✨ Mirror Entanglement - Quantum Smoothology Notebook\n",
    "\n",
    "This notebook shows how to **visualize quantum entanglement** as a simple 2D vector reflection.\n",
    "\n",
    "👉 **Idea:** Measuring Particle A locks its vector, and Particle B instantly reflects it, like a quantum mirror!\n",
    "\n",
    "---\n"
   ]
  },
  {
   "cell_type": "code",
   "execution_count": null,
   "id": "481cac1f",
   "metadata": {},
   "outputs": [],
   "source": [
    "import matplotlib.pyplot as plt\n",
    "import numpy as np"
   ]
  },
  {
   "cell_type": "code",
   "execution_count": null,
   "id": "9ff87b72",
   "metadata": {},
   "outputs": [],
   "source": [
    "class Particle:\n",
    "    def __init__(self, name):\n",
    "        self.name = name\n",
    "        self.state = None  # Vector [x, y]\n",
    "\n",
    "    def measure(self, value):\n",
    "        self.state = value\n",
    "        print(f\"{self.name} measured: {self.state}\")"
   ]
  },
  {
   "cell_type": "code",
   "execution_count": null,
   "id": "f1abfbf8",
   "metadata": {},
   "outputs": [],
   "source": [
    "class MirrorEntanglement:\n",
    "    def __init__(self):\n",
    "        self.A = Particle(\"Particle A\")\n",
    "        self.B = Particle(\"Particle B (Mirror)\")\n",
    "\n",
    "    def measure_A(self, value):\n",
    "        self.A.measure(value)\n",
    "        self.B.measure(self.reflect(value))\n",
    "\n",
    "    def reflect(self, value):\n",
    "        return [-value[0], -value[1]]\n",
    "\n",
    "    def plot(self):\n",
    "        fig, ax = plt.subplots()\n",
    "        ax.quiver(0, 0, self.A.state[0], self.A.state[1],\n",
    "                  color='b', label='Particle A',\n",
    "                  angles='xy', scale_units='xy', scale=1)\n",
    "        ax.quiver(0, 0, self.B.state[0], self.B.state[1],\n",
    "                  color='r', label='Particle B (Mirror)',\n",
    "                  angles='xy', scale_units='xy', scale=1)\n",
    "        ax.set_xlim(-1.5, 1.5)\n",
    "        ax.set_ylim(-1.5, 1.5)\n",
    "        ax.set_xlabel('X')\n",
    "        ax.set_ylabel('Y')\n",
    "        ax.legend()\n",
    "        ax.grid(True)\n",
    "        plt.title(\"🪞 Quantum Mirror Entanglement\")\n",
    "        plt.show()"
   ]
  },
  {
   "cell_type": "code",
   "execution_count": null,
   "id": "7eeaa58f",
   "metadata": {},
   "outputs": [],
   "source": [
    "# Create the system\n",
    "system = MirrorEntanglement()\n",
    "\n",
    "# Measure Particle A\n",
    "system.measure_A([1, 0])  # Example: measure to the \"Right\"\n",
    "\n",
    "# Show the plot\n",
    "system.plot()"
   ]
  }
 ],
 "metadata": {},
 "nbformat": 4,
 "nbformat_minor": 5
}
